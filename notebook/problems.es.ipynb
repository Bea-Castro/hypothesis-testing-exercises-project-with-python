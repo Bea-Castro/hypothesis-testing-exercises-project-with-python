{
 "cells": [
  {
   "cell_type": "markdown",
   "id": "d9d036c6",
   "metadata": {},
   "source": [
    "# Problemas de prueba de hipótesis"
   ]
  },
  {
   "cell_type": "markdown",
   "id": "d157c4db",
   "metadata": {},
   "source": [
    "## Ejercicio 1\n",
    "\n",
    "Usted es un nutricionista que investiga dos tipos diferentes de dietas para ver si existe una diferencia significativa en la pérdida de peso después de un mes. Eliges dos grupos aleatorios de personas; un grupo sigue la primera dieta y el otro sigue la segunda. Al final del mes, se registra la pérdida de peso (en kg) de cada persona:\n",
    "\n",
    "| Diet 1 | Diet 2 |\n",
    "|:-------|:-------|\n",
    "| 2.0 | 3.0 |\n",
    "| 2.5 | 3.2 |\n",
    "| 3.0 | 3.1 |\n",
    "| 2.8 | 2.9 |\n",
    "| 2.3 | 2.8 |\n",
    "| 2.7 | 3.0 |\n",
    "| 2.5 | 3.2 |\n",
    "\n",
    "Con estos datos se busca responder a la siguiente pregunta: ¿Existe una diferencia significativa en la pérdida de peso promedio entre las personas que siguieron la primera dieta y las que siguieron la segunda dieta?\n",
    "\n",
    "Para sacar conclusiones, siga los siguientes puntos:\n",
    "\n",
    "-Enunciar la hipótesis: hipótesis nula y alternativa.\n",
    "-Realizar la prueba para comprobar la hipótesis. Puede utilizar la prueba t de Student.\n",
    "-Analizar las conclusiones."
   ]
  },
  {
   "cell_type": "code",
   "execution_count": 8,
   "id": "8e0f3cf0",
   "metadata": {},
   "outputs": [
    {
     "name": "stdout",
     "output_type": "stream",
     "text": [
      "T valor: -3.5383407969933938\n",
      "P valor: 0.004083270191713912\n"
     ]
    }
   ],
   "source": [
    "import scipy.stats as stats\n",
    "# Definimos la pérdida de peso de cada persona según la dieta\n",
    "\n",
    "dieta1= [2, 2.5 , 3 , 2.8 , 2.3 , 2.7, 2.5]\n",
    "dieta2 = [3, 3.2, 3.1, 2.9 , 2.8 , 3 , 3.2]\n",
    "\n",
    "# Hipótesis nula (H0) = No hay diferencia significativa entre la pérdida de peso y la dieta realizada\n",
    "# Hipótesis alternativa (H1)= Si hay diferencia significativa entre la pérdida de peso y la dieta realizada\n",
    "\n",
    "alfa = 0.05\n",
    "\n",
    "# Prueba t de Student\n",
    "\n",
    "t_valor,p_valor = stats.ttest_ind(dieta1,dieta2)\n",
    "\n",
    "print (f'T valor: {t_valor}')\n",
    "print(f'P valor: {p_valor}')\n",
    "\n",
    "\n"
   ]
  },
  {
   "cell_type": "markdown",
   "id": "1aea2aed",
   "metadata": {},
   "source": [
    "En este caso al ser el P_valor menor que 0,05 rechazamos la hipótesis nula. El T_valor, al ser un valor alto y negativo nos indica que la media de perdida de peso con la dieta 1 es menor que la media de pérdida de peso con la dieta 2."
   ]
  },
  {
   "cell_type": "markdown",
   "id": "f432e18e",
   "metadata": {},
   "source": [
    "## ANOVA\n",
    "\n",
    "**ANOVA** (*Analysis of Variance - Análisis de variación*) Es una técnica estadística utilizada para comparar las medidas de dos o más grupos. La idea detrás de ANOVA es descomponer la variabilidad total de los datos en dos componentes: variabilidad entre grupos y variabilidad dentro de los grupos:\n",
    "\n",
    "- **Variabilidad entre grupos**: Esta variabilidad se refiere a las diferencias entre las medias del grupo. Si esta variabilidad es considerablemente mayor que la variabilidad dentro del grupo, podría ser una indicación de que al menos una de las medias del grupo es diferente.\n",
    "- **Variabilidad dentro del grupo**: Esta variabilidad se refiere a la dispersión de los datos dentro de cada grupo. Si todos los grupos tienen una variabilidad similar, entonces cualquier diferencia notable en las medias de los grupos podría considerarse significativa.\n",
    "\n",
    "Las hipótesis en ANOVA suelen incluir:\n",
    "\n",
    "- **Hipótesis nula** ($H₀$): Las medias de todos los grupos son iguales.\n",
    "- **Hipótesis alternativa** ($H₁$): Al menos una de las medias del grupo es diferente.\n",
    "\n",
    "Si el resultado de la prueba ANOVA es significativo (por ejemplo, un valor p inferior a un umbral como 0,05), esto sugiere que al menos la media de un grupo es diferente."
   ]
  },
  {
   "cell_type": "markdown",
   "id": "fc5f3721",
   "metadata": {},
   "source": [
    "## Ejercicio 2\n",
    "\n",
    "Un agricultor decide probar tres tipos diferentes de fertilizantes para determinar si alguno es superior en términos de producción de maíz. El agricultor planta maíz en 15 parcelas idénticas y utiliza los tres fertilizantes (5 parcelas para cada tipo). Al final de la temporada mide el rendimiento de maíz (en kg) de cada parcela, con el siguiente resultado:\n",
    "\n",
    "| Fertilizante 1 | Fertilizante 2 | Fertilizante 3 |\n",
    "|:-------------|:-------------|:-------------|\n",
    "| 20 | 22 | 24 |\n",
    "| 21 | 21 | 23 |\n",
    "| 20 | 23 | 22 |\n",
    "| 19 | 22 | 23 |\n",
    "| 20 | 21 | 24 |\n",
    "\n",
    "Con estos datos busca responder la siguiente pregunta: ¿Existe una diferencia significativa en el rendimiento promedio del maíz entre los tres tipos de fertilizantes?\n",
    "\n",
    "Para ayudarte, sigue los siguientes puntos:\n",
    "\n",
    "-Enunciar la hipótesis: hipótesis nula y alternativa.\n",
    "-Realizar la prueba ANOVA.\n",
    "-Analizar las conclusiones.\n",
    "-Si un fertilizante es mejor que otro, ¿cómo podemos saberlo?"
   ]
  },
  {
   "cell_type": "code",
   "execution_count": 19,
   "id": "eecad0ca",
   "metadata": {},
   "outputs": [
    {
     "name": "stdout",
     "output_type": "stream",
     "text": [
      " T valor: 20.315789473684188\n",
      " P valor: 0.00014047824793190475\n"
     ]
    }
   ],
   "source": [
    "Fert_1 = [20,21,20,19,20]\n",
    "Fert_2 = [22,21,23,22,21]\n",
    "Fert_3 = [24,23,22,23,24] \n",
    "\n",
    "# Hipótesis nula (H0): No hay diferencia en el rendimiento del maíz según el tipo de fertilizante\n",
    "# Hipótesis alternativa (H1): Hay diferencia en el rendimiento del maíz según el tipo de fertilizante\n",
    "\n",
    "# Test Anova\n",
    "\n",
    "f_valor, p_valor = stats.f_oneway(Fert_1,Fert_2,Fert_3)\n",
    "\n",
    "print(f' T valor: {f_valor}')\n",
    "print(f' P valor: {p_valor}') \n"
   ]
  },
  {
   "cell_type": "markdown",
   "id": "25153faf",
   "metadata": {},
   "source": [
    "En este caso al ser el P_valor menor que 0,05 rechazamos la hipótesis nula. Podemos concluir que si hay diferencia en el rendimiento del maíz según el tipo de fertilizante utilizado"
   ]
  },
  {
   "cell_type": "code",
   "execution_count": 20,
   "id": "4ba81d7f",
   "metadata": {},
   "outputs": [
    {
     "name": "stdout",
     "output_type": "stream",
     "text": [
      "        Multiple Comparison of Means - Tukey HSD, FWER=0.05        \n",
      "===================================================================\n",
      "    group1         group2     meandiff p-adj   lower  upper  reject\n",
      "-------------------------------------------------------------------\n",
      "Fertilizante 1 Fertilizante 2      0.0    1.0 -1.2702 1.2702  False\n",
      "Fertilizante 1 Fertilizante 3      3.2 0.0001  1.9298 4.4702   True\n",
      "Fertilizante 2 Fertilizante 3      3.2 0.0001  1.9298 4.4702   True\n",
      "-------------------------------------------------------------------\n"
     ]
    }
   ],
   "source": [
    "#Averiguar que ferlitizante es mejor con Test Tukey\n",
    "\n",
    "import numpy as np\n",
    "from statsmodels.stats.multicomp import pairwise_tukeyhsd\n",
    "\n",
    "data = np.concatenate([Fert_1, Fert_1, Fert_3])\n",
    "labels = ['Fertilizante 1'] * 5 + ['Fertilizante 2'] * 5 + ['Fertilizante 3'] * 5\n",
    "\n",
    "resultado = pairwise_tukeyhsd(data, labels, alpha = 0.05)\n",
    "print(resultado)"
   ]
  },
  {
   "cell_type": "markdown",
   "id": "8f5f46c5",
   "metadata": {},
   "source": [
    "Como podemos ver en la tabla, en la primera fila el valor de rechazar es falso, por lo que no hay diferencia entre utilizar el fertilizante 1 y el fertilizane 2. En cambio en las filas 2 y 3 el valor del rechazo es verdadero, por lo que si hay diferencia. Si miramos la diferencia de la media en ambos casos vemos que existe una diferencia positva. Esto nos indica que el fertilizante 3 tiene una diferencia significativa respecto al fertilizante 1 (fila 2), y respecto al fertilizante 2 (fila 3).\n",
    "Concluimos que el fertilizante 3 es el que ha obtenido mejores resultados, obteniendo una producción más alta."
   ]
  }
 ],
 "metadata": {
  "kernelspec": {
   "display_name": "Python 3",
   "language": "python",
   "name": "python3"
  },
  "language_info": {
   "codemirror_mode": {
    "name": "ipython",
    "version": 3
   },
   "file_extension": ".py",
   "mimetype": "text/x-python",
   "name": "python",
   "nbconvert_exporter": "python",
   "pygments_lexer": "ipython3",
   "version": "3.11.4"
  }
 },
 "nbformat": 4,
 "nbformat_minor": 5
}
